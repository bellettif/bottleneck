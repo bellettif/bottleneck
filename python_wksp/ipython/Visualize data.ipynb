{
 "cells": [
  {
   "cell_type": "code",
   "execution_count": 1,
   "metadata": {
    "collapsed": true
   },
   "outputs": [],
   "source": [
    "## Useful imports"
   ]
  },
  {
   "cell_type": "code",
   "execution_count": 2,
   "metadata": {
    "collapsed": true
   },
   "outputs": [],
   "source": [
    "from datetime import datetime\n",
    "from datetime import timedelta\n",
    "import numpy as np\n",
    "import pandas as pd\n",
    "import sys\n",
    "import os\n",
    "from matplotlib import pyplot as plt\n",
    "import matplotlib.cm as cm\n",
    "import cPickle as pickle\n",
    "import scipy\n",
    "import scipy.sparse.linalg\n",
    "%matplotlib inline\n",
    "\n",
    "from datetime import datetime"
   ]
  },
  {
   "cell_type": "code",
   "execution_count": 9,
   "metadata": {
    "collapsed": true
   },
   "outputs": [],
   "source": [
    "input_data_folder = '../../data/processed/'\n",
    "\n",
    "data_files = filter(lambda x: x[-4:] == '.csv', os.listdir(input_data_folder))"
   ]
  },
  {
   "cell_type": "code",
   "execution_count": 10,
   "metadata": {
    "collapsed": false
   },
   "outputs": [
    {
     "name": "stdout",
     "output_type": "stream",
     "text": [
      "['nfbVD-5N-0.178.csv', 'nfbVD-5N-0.706.csv', 'nfbVD-5N-13.348.csv', 'nfbVD-5N-13.763.csv', 'nfbVD-5N-14.550.csv', 'nfbVD-5N-14.800.csv', 'nfbVD-5N-28.420.csv', 'nfbVD-5N-30.100.csv', 'nfbVD-5N-4.058.csv', 'nfbVD-5N-4.400.csv', 'nfbVD-5N-4.460.csv', 'nfbVD-5N-5.523.csv', 'nfbVD-5N-5.883.csv', 'nfbVD-5N-6.413.csv', 'nfbVD-5N-7.113.csv', 'nfbVD-5N-7.636.csv', 'nfbVD-5N-8.043.csv', 'nfbVD-5N-8.703.csv', 'nfbVD-5N-9.013.csv', 'nfbVD-5N-PLIC-I-14.583.csv', 'nfbVD-5N-PLIC-O-14.683.csv', 'nfbVD-5N-PST-10.147.csv', 'nfbVD-5N-PST-10.506.csv', 'nfbVD-5N-PST-11.178.csv', 'nfbVD-5N-PST-11.555.csv', 'nfbVD-5N-PST-12.238.csv', 'nfbVD-5N-PST-12.579.csv', 'nfbVD-5N-PST-12.922.csv', 'nfbVD-5N-PST-9.373.csv', 'nfbVD-5N-PST-9.840.csv', 'nfbVD-5N-PST-P-10.866.csv', 'nfbVD-5N-PST-P-11.896.csv', 'nfbVD-5N-SDIC-I-4.044.csv', 'nfbVD-5N-SDIC-O-4.455.csv', 'nfbVD-5N-SDT-1.068.csv', 'nfbVD-5N-SDT-1.435.csv', 'nfbVD-5N-SDT-1.788.csv', 'nfbVD-5N-SDT-2.068.csv', 'nfbVD-5N-SDT-2.455.csv', 'nfbVD-5N-SDT-2.849.csv', 'nfbVD-5N-SDT-3.198.csv', 'nfbVD-5N-SST-15.488.csv', 'nfbVD-5N-SST-15.855.csv', 'nfbVD-5N-SST-16.196.csv', 'nfbVD-5N-SST-16.570.csv', 'nfbVD-5N-SST-17.268.csv', 'nfbVD-5N-SST-17.608.csv', 'nfbVD-5N-SST-17.998.csv', 'nfbVD-5N-SST-18.662.csv', 'nfbVD-5N-SST-19.012.csv', 'nfbVD-5N-SST-19.361.csv', 'nfbVD-5N-SST-20.062.csv', 'nfbVD-5N-SST-20.412.csv', 'nfbVD-5N-SST-20.752.csv', 'nfbVD-5N-SST-21.444.csv', 'nfbVD-5N-SST-21.808.csv', 'nfbVD-5N-SST-22.158.csv', 'nfbVD-5N-SST-22.859.csv', 'nfbVD-5N-SST-23.209.csv', 'nfbVD-5N-SST-23.568.csv', 'nfbVD-5N-SST-24.264.csv', 'nfbVD-5N-SST-24.677.csv', 'nfbVD-5N-SST-24.952.csv', 'nfbVD-5N-SST-25.652.csv', 'nfbVD-5N-SST-26.007.csv', 'nfbVD-5N-SST-26.300.csv', 'nfbVD-5N-SST-27.056.csv', 'nfbVD-5N-SST-27.468.csv', 'nfbVD-5N-SST-27.779.csv', 'nfbVD-5N-SST-P-16.900.csv', 'nfbVD-5N-SST-P-18.313.csv', 'nfbVD-5N-SST-P-19.689.csv', 'nfbVD-5N-SST-P-21.055.csv', 'nfbVD-5N-SST-P-22.510.csv', 'nfbVD-5N-SST-P-23.911.csv', 'nfbVD-5N-SST-P-25.310.csv', 'nfbVD-5N-SST-P-26.705.csv', 'nfbVD-5N-TCIC-I-29.843.csv', 'nfbVD-5S-13.343.csv', 'nfbVD-5S-14.356.csv', 'nfbVD-5S-14.540.csv', 'nfbVD-5S-15.139.csv', 'nfbVD-5S-3.506.csv', 'nfbVD-5S-30.140.csv', 'nfbVD-5S-30.266.csv', 'nfbVD-5S-4.016.csv', 'nfbVD-5S-4.395.csv', 'nfbVD-5S-4.749.csv', 'nfbVD-5S-5.523.csv', 'nfbVD-5S-6.498.csv', 'nfbVD-5S-7.113.csv', 'nfbVD-5S-7.553.csv', 'nfbVD-5S-7.923.csv', 'nfbVD-5S-8.669.csv', 'nfbVD-5S-9.063.csv', 'nfbVD-5S-PLIC-I-14.691.csv', 'nfbVD-5S-PLIC-O-14.483.csv', 'nfbVD-5S-PST-10.145.csv', 'nfbVD-5S-PST-10.495.csv', 'nfbVD-5S-PST-11.158.csv', 'nfbVD-5S-PST-11.545.csv', 'nfbVD-5S-PST-12.245.csv', 'nfbVD-5S-PST-12.595.csv', 'nfbVD-5S-PST-12.945.csv', 'nfbVD-5S-PST-9.326.csv', 'nfbVD-5S-PST-9.840.csv', 'nfbVD-5S-PST-P-10.845.csv', 'nfbVD-5S-PST-P-11.895.csv', 'nfbVD-5S-SDIC-I-4.178.csv', 'nfbVD-5S-SDIC-O-3.806.csv', 'nfbVD-5S-SDT-1.072.csv', 'nfbVD-5S-SDT-1.424.csv', 'nfbVD-5S-SDT-1.766.csv', 'nfbVD-5S-SDT-2.050.csv', 'nfbVD-5S-SDT-2.433.csv', 'nfbVD-5S-SDT-2.835.csv', 'nfbVD-5S-SDT-3.178.csv', 'nfbVD-5S-SST-15.478.csv', 'nfbVD-5S-SST-15.856.csv', 'nfbVD-5S-SST-16.201.csv', 'nfbVD-5S-SST-16.551.csv', 'nfbVD-5S-SST-17.253.csv', 'nfbVD-5S-SST-17.608.csv', 'nfbVD-5S-SST-17.990.csv', 'nfbVD-5S-SST-18.663.csv', 'nfbVD-5S-SST-19.013.csv', 'nfbVD-5S-SST-19.363.csv', 'nfbVD-5S-SST-20.063.csv', 'nfbVD-5S-SST-20.413.csv', 'nfbVD-5S-SST-20.763.csv', 'nfbVD-5S-SST-21.460.csv', 'nfbVD-5S-SST-21.807.csv', 'nfbVD-5S-SST-22.159.csv', 'nfbVD-5S-SST-22.859.csv', 'nfbVD-5S-SST-23.207.csv', 'nfbVD-5S-SST-23.560.csv', 'nfbVD-5S-SST-24.264.csv', 'nfbVD-5S-SST-24.678.csv', 'nfbVD-5S-SST-24.962.csv', 'nfbVD-5S-SST-25.664.csv', 'nfbVD-5S-SST-26.013.csv', 'nfbVD-5S-SST-26.299.csv', 'nfbVD-5S-SST-27.054.csv', 'nfbVD-5S-SST-27.442.csv', 'nfbVD-5S-SST-27.748.csv', 'nfbVD-5S-SST-28.236.csv', 'nfbVD-5S-SST-P-16.902.csv', 'nfbVD-5S-SST-P-18.312.csv', 'nfbVD-5S-SST-P-19.677.csv', 'nfbVD-5S-SST-P-21.063.csv', 'nfbVD-5S-SST-P-22.506.csv', 'nfbVD-5S-SST-P-23.910.csv', 'nfbVD-5S-SST-P-25.312.csv', 'nfbVD-5S-SST-P-26.706.csv', 'nfbVD-5S-TCIC-I-30.249.csv', 'nfbVD-5S-TCIC-O-29.716.csv']\n"
     ]
    }
   ],
   "source": [
    "print data_files"
   ]
  },
  {
   "cell_type": "code",
   "execution_count": null,
   "metadata": {
    "collapsed": true
   },
   "outputs": [],
   "source": [
    "northbound_data = filter(lambda x:)"
   ]
  }
 ],
 "metadata": {
  "kernelspec": {
   "display_name": "Python 2",
   "language": "python",
   "name": "python2"
  },
  "language_info": {
   "codemirror_mode": {
    "name": "ipython",
    "version": 2
   },
   "file_extension": ".py",
   "mimetype": "text/x-python",
   "name": "python",
   "nbconvert_exporter": "python",
   "pygments_lexer": "ipython2",
   "version": "2.7.9"
  }
 },
 "nbformat": 4,
 "nbformat_minor": 0
}
